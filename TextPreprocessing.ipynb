{
 "cells": [
  {
   "cell_type": "markdown",
   "id": "be3b6f9e",
   "metadata": {},
   "source": [
    "# Text preprocessing"
   ]
  },
  {
   "cell_type": "markdown",
   "id": "1e84e083",
   "metadata": {},
   "source": [
    "## 1 Python文本处理方法（theory）\n",
    "\n",
    "\n"
   ]
  },
  {
   "cell_type": "markdown",
   "id": "fe93e22a",
   "metadata": {},
   "source": [
    "## 正则表达式\n",
    "\n",
    "[正则表达式语法](https://www.runoob.com/python/python-reg-expressions.html)"
   ]
  },
  {
   "cell_type": "markdown",
   "id": "42435c72",
   "metadata": {},
   "source": [
    "## re.match(pattern, string, flag=0)\n",
    "\n",
    "从字符串的起始位置匹配一个模式. 返回一个匹配的对象，否则返回 None.\n"
   ]
  },
  {
   "cell_type": "code",
   "execution_count": 20,
   "id": "3a697557",
   "metadata": {},
   "outputs": [
    {
     "name": "stdout",
     "output_type": "stream",
     "text": [
      "None\n",
      "None\n",
      "match 'Argentina':  Argentina\n"
     ]
    }
   ],
   "source": [
    "import re\n",
    "# 用re.match()匹配文本\n",
    "sentence = \"Argentina won the World Cup 2022.\"\n",
    "\n",
    "match1 = re.match(r'cup',sentence)\n",
    "match2 = re.match(r'[0-9]',sentence)\n",
    "match3 = re.match(r'Argentina',sentence)\n",
    "\n",
    "#只能从起始位置匹配\n",
    "if match1:\n",
    "    print(\"match 'cat':\" , match1)\n",
    "else:\n",
    "    print(match1)\n",
    "if match2:\n",
    "    print(\"match '[0-9]': \" , match2)\n",
    "else:\n",
    "    print(match2)\n",
    "if match3: \n",
    "    print(\"match 'Argentina': \" , match3.group())\n",
    "else:\n",
    "    print(\"no match\")"
   ]
  },
  {
   "cell_type": "markdown",
   "id": "2b81f721",
   "metadata": {},
   "source": [
    "## re.search(pattern, string, flags=0)\n",
    "\n",
    "扫描整个字符串并返回第一个成功的匹配。\n",
    "\n",
    "re.match只匹配字符串的开始，如果字符串开始不符合正则表达式，则匹配失败，函数返回None；而re.search匹配整个字符串，直到找到一个匹配。"
   ]
  },
  {
   "cell_type": "markdown",
   "id": "064df418",
   "metadata": {},
   "source": [
    "## re.findall()\n",
    "\n",
    "在字符串中找到正则表达式所匹配的所有子串，并返回一个**列表**.\n",
    "\n",
    "如果有多个匹配模式，则返回元组列表，如果没有找到匹配的，则返回空列表。"
   ]
  },
  {
   "cell_type": "code",
   "execution_count": 44,
   "id": "0e5cc4e3",
   "metadata": {},
   "outputs": [
    {
     "name": "stdout",
     "output_type": "stream",
     "text": [
      "['#telephone']\n",
      "['123', '456']\n"
     ]
    }
   ],
   "source": [
    "import re\n",
    "\n",
    "s1 = \"6879-4628 #telephone\"\n",
    "print(re.findall(r'#.*$',s1))   #查找所有注释\n",
    "\n",
    "s2 = \"runoob 123 google 456\"\n",
    "print(re.findall(r'\\d+',s2))     #查找所有数字，返回符合的字符串的list"
   ]
  },
  {
   "cell_type": "markdown",
   "id": "4bb3aa67",
   "metadata": {},
   "source": [
    "## re.sub(pattern, repl, string, count=0, flags=0)\n",
    "\n",
    "repl : 替换的字符串，也可为一个函数。\n",
    "\n",
    "string : 被替换的原始字符串。"
   ]
  },
  {
   "cell_type": "code",
   "execution_count": 45,
   "id": "d366844a",
   "metadata": {},
   "outputs": [
    {
     "name": "stdout",
     "output_type": "stream",
     "text": [
      "6879-4628 \n",
      "A46G8HFD1134\n"
     ]
    }
   ],
   "source": [
    "import re\n",
    "numbers1 = \"6879-4628 #telephone\"\n",
    "numbers2 = \"A23G4HFD567\"\n",
    "\n",
    "#repl为字符串\n",
    "print(re.sub(r'#.*$','',numbers1)) #去掉了注释\n",
    "\n",
    "\n",
    "#repl为函数\n",
    "def double(matched):\n",
    "    value = int(matched.group('value'))\n",
    "    return str(value * 2)\n",
    "print(re.sub(r'(?P<value>\\d+)', double,numbers2)) #数字翻倍"
   ]
  },
  {
   "cell_type": "markdown",
   "id": "987ff5a3",
   "metadata": {},
   "source": [
    "## re.split(pattern, string[, maxsplit=0, flags=0])\n",
    "\n",
    "按照能够匹配的子串将字符串分割后返回列表"
   ]
  },
  {
   "cell_type": "code",
   "execution_count": 49,
   "id": "e887ed50",
   "metadata": {},
   "outputs": [
    {
     "name": "stdout",
     "output_type": "stream",
     "text": [
      "['runoob', 'runoob', 'runoob', '']\n",
      "['hello world']\n"
     ]
    }
   ],
   "source": [
    "#e.g.\n",
    "s3 = re.split('\\W+', 'runoob, runoob, runoob.')\n",
    "print(s3)\n",
    "#return ['runoob', 'runoob', 'runoob', '']\n",
    "\n",
    "# 对于一个找不到匹配的字符串而言，split 不会对其作出分割\n",
    "s4 = re.split('\\d+', 'hello world')   \n",
    "print(s4)\n",
    "#return ['hello world']"
   ]
  },
  {
   "cell_type": "markdown",
   "id": "166d6e46",
   "metadata": {},
   "source": [
    "## re.compile(pattern[, flags])\n",
    "\n",
    "compile 函数用于编译正则表达式，生成一个正则表达式（Pattern）对象。\n",
    "\n",
    "pattern : 一个字符串形式的正则表达式\n",
    "\n",
    "flags : 可选，表示匹配模式，比如忽略大小写，多行模式等，具体参数为：\n",
    "\n",
    "    - re.I 忽略大小写\n",
    "    - re.L 表示特殊字符集 \\w, \\W, \\b, \\B, \\s, \\S 依赖于当前环境\n",
    "    - re.M 多行模式\n",
    "    - re.S 即为 . 并且包括换行符在内的任意字符（. 不包括换行符）\n",
    "    - re.U 表示特殊字符集 \\w, \\W, \\b, \\B, \\d, \\D, \\s, \\S 依赖于 Unicode 字符属性数据库\n",
    "    - re.X 为了增加可读性，忽略空格和 # 后面的注释"
   ]
  },
  {
   "cell_type": "code",
   "execution_count": 57,
   "id": "3c85341d",
   "metadata": {
    "scrolled": true
   },
   "outputs": [
    {
     "name": "stdout",
     "output_type": "stream",
     "text": [
      "None\n",
      "None\n",
      "12\n",
      "['123', '456']\n"
     ]
    }
   ],
   "source": [
    "import re\n",
    "\n",
    "pattern = re.compile(r'\\d+')                     # 用于匹配至少一个数字\n",
    "\n",
    "m1 = pattern.match('one12twothree34four')        # match查找头部，没有匹配\n",
    "print (m1)\n",
    "#return None\n",
    "\n",
    "m2 = pattern.match('one12twothree34four', 2, 10) # match从'e'的位置开始匹配，没有匹配\n",
    "print (m2)\n",
    "#return None\n",
    "\n",
    "m3 = pattern.search('one12twothree34four', 2, 10).group() # search从'e'的位置开始匹配，匹配到12\n",
    "print(m3)\n",
    "#return 12\n",
    "\n",
    "m4 = pattern.findall('runoob 123 google 456')    # findall匹配所有符合的字符串，返回列表\n",
    "print(m4)\n",
    "#return ['123', '456']"
   ]
  },
  {
   "cell_type": "markdown",
   "id": "482ab5e9",
   "metadata": {},
   "source": [
    "## 练习\n",
    "\n",
    "[Python 正则表达式10分钟练习](https://zhuanlan.zhihu.com/p/32568168)\n"
   ]
  },
  {
   "cell_type": "markdown",
   "id": "64cb2505",
   "metadata": {},
   "source": []
  },
  {
   "attachments": {},
   "cell_type": "markdown",
   "id": "ed8bd29e",
   "metadata": {},
   "source": [
    "## 2 NLP文本处理步骤（practice）\n",
    "\n",
    "[NLP入门-- 文本预处理Pre-processing](https://zhuanlan.zhihu.com/p/53277723)\n",
    "\n",
    "![image.png](https://pic3.zhimg.com/80/v2-0468e8b3269304766d21b2ee6ad9c4f6_1440w.webp)"
   ]
  },
  {
   "cell_type": "markdown",
   "id": "36af72ae",
   "metadata": {},
   "source": [
    "## 2.1 分词&清洗\n",
    "\n",
    "**去除特殊符号、stop word等**"
   ]
  },
  {
   "cell_type": "code",
   "execution_count": 58,
   "id": "8a9e81c4",
   "metadata": {},
   "outputs": [
    {
     "name": "stdout",
     "output_type": "stream",
     "text": [
      "hello word\n"
     ]
    }
   ],
   "source": [
    "import re\n",
    "\n",
    "# 去掉括号和括号内的所有内容以及标签\n",
    "r =  \"\\\\【.*?】+|\\\\《.*?》+|\\\\#.*?#+|[.!/_,$&%^*()<>+\"\"'?@|:~{}#]+|[——！\\\\\\，。=？、：“”‘’￥……（）《》【】]\"\n",
    "\n",
    "sentence = \"hello! wo?rd!.\"\n",
    "cleanr = re.compile('<.*?>')\n",
    "sentence = re.sub(cleanr, ' ', sentence)        #去除html标签\n",
    "sentence = re.sub(r,'',sentence)\n",
    "print(sentence)   #return hello word"
   ]
  },
  {
   "cell_type": "markdown",
   "id": "8add4314",
   "metadata": {},
   "source": [
    "**分词**"
   ]
  },
  {
   "cell_type": "code",
   "execution_count": 83,
   "id": "64fbdb53",
   "metadata": {},
   "outputs": [
    {
     "name": "stdout",
     "output_type": "stream",
     "text": [
      "split:  ['hello,', 'this', 'is', 'an', 'apple']\n",
      "word_tokenize:  ['hello', ',', 'this', 'is', 'a', 'useful', 'tutorial', 'for', 'learning', 'xxx']\n"
     ]
    }
   ],
   "source": [
    "# 英文分词：split()\n",
    "sentence_split = sentence.split( )\n",
    "print(\"split: \",sentence_split)\n",
    "\n",
    "# 英文分词：word_tokenize()\n",
    "import nltk\n",
    "from nltk.tokenize import word_tokenize\n",
    "sentence2 = \"hello, this is a useful tutorial for learning xxx\"\n",
    "print(\"word_tokenize: \",nltk.word_tokenize(sentence2))\n",
    "\n",
    "# 中文分词一般调用其他模块"
   ]
  },
  {
   "cell_type": "markdown",
   "id": "56027a51",
   "metadata": {},
   "source": [
    "**去除停用词**"
   ]
  },
  {
   "cell_type": "code",
   "execution_count": 76,
   "id": "d6eabb89",
   "metadata": {
    "scrolled": true
   },
   "outputs": [
    {
     "name": "stdout",
     "output_type": "stream",
     "text": [
      "stopword list:  {'above', \"you've\", 'which', 'off', 'out', \"wasn't\", 'them', 'again', \"aren't\", 'through', 'your', 'did', 'yours', 'are', 'll', 'theirs', 'about', \"wouldn't\", 'how', 'ours', 'not', 'haven', 'she', 'most', 'after', 'by', 'needn', 'hadn', 'both', 'am', 'ourselves', 'my', 'under', 'when', 'up', \"needn't\", 'couldn', 'to', 'himself', \"doesn't\", 'on', 'more', 'too', \"mustn't\", 'where', 'we', 'been', 'has', 'who', 'but', \"shan't\", 'ain', 'for', 'does', 'his', 'had', 'shan', 'down', 'few', 'was', 'whom', 'don', 'will', \"that'll\", 'should', \"you'd\", 'from', 'mightn', 'just', 'myself', 'further', 'into', 'me', 'all', 'wouldn', 'of', 'you', 'no', 'weren', 'while', 'as', \"should've\", 'itself', 'once', 'in', 'didn', 'so', \"you'll\", \"hadn't\", 'the', 'shouldn', 'be', 'aren', 'they', 'it', 'have', 'why', 'doesn', 'then', 'can', 'o', 'is', 'any', 'same', 'yourself', 'there', \"shouldn't\", 'until', \"you're\", 'he', 'themselves', 'wasn', 'i', 'some', \"hasn't\", 'their', 'were', 'him', 'very', 'yourselves', 'hers', 'because', 'than', 'now', 't', \"haven't\", 'mustn', 'her', 'other', 'isn', 'against', 'such', 're', \"didn't\", 'these', 'do', 'doing', \"she's\", \"it's\", 'and', 'being', 'an', 'm', 'having', 'that', 'd', \"weren't\", 'this', \"won't\", 'those', 'own', \"couldn't\", 'over', 'or', \"don't\", 'a', 'each', 'herself', 'only', 'before', 'at', 'hasn', 've', 'below', 's', 'our', 'what', 'between', 'here', 'nor', \"isn't\", \"mightn't\", 'won', 'if', 'its', 'y', 'during', 'ma', 'with'}\n",
      "['hello,', 'apple']\n"
     ]
    }
   ],
   "source": [
    "#stop word removal （\"a\"，\"the\",“to\"，“their”等冠词，介词，代词）\n",
    "#使用nltk中提供的英文停用词表\n",
    "\n",
    "import nltk\n",
    "\n",
    "#print出stopwords看看\n",
    "from nltk.corpus import stopwords \n",
    "stop = set(stopwords.words('english')) \n",
    "print(\"stopword list: \",stop)\n",
    "\n",
    "#去除停用词\n",
    "sentence = \"hello, this is an apple\"\n",
    "sentence_split_stopwr = [w for w in sentence.split(' ') if w not in stopwords.words('english')]\n",
    "print(sentence_split_stopwr)"
   ]
  },
  {
   "cell_type": "code",
   "execution_count": null,
   "id": "f55d4cc7",
   "metadata": {},
   "outputs": [],
   "source": []
  },
  {
   "cell_type": "markdown",
   "id": "09d3dad5",
   "metadata": {},
   "source": [
    "## 2.2 词干提取(Stemming)和词形还原(Lemmatization)\n",
    "\n",
    "使用 nltk.stem 模块中的 PorterStemmer/SnowballStemmer进行**Stemming**。\n"
   ]
  },
  {
   "cell_type": "code",
   "execution_count": 85,
   "id": "f5c5cccd",
   "metadata": {
    "scrolled": true
   },
   "outputs": [
    {
     "data": {
      "text/plain": [
       "'leav'"
      ]
     },
     "execution_count": 85,
     "metadata": {},
     "output_type": "execute_result"
    }
   ],
   "source": [
    "from nltk.stem import SnowballStemmer\n",
    "stemmer = SnowballStemmer(\"english\") # 选择语言\n",
    "stemmer.stem(\"leaves\") # 词干化单词"
   ]
  },
  {
   "cell_type": "markdown",
   "id": "53fe4c88",
   "metadata": {},
   "source": [
    "使用 nltk.stem 模块中的 WordNetLemmatizer 对象进行**lemmatization**。"
   ]
  },
  {
   "cell_type": "code",
   "execution_count": 84,
   "id": "d2da85f9",
   "metadata": {},
   "outputs": [
    {
     "name": "stdout",
     "output_type": "stream",
     "text": [
      "leaf\n",
      "leaf\n",
      "leave\n"
     ]
    }
   ],
   "source": [
    "# 使用wordnet lemmatizer进行词形还原\n",
    "# e.g. leaves, leaf, leave\n",
    "import nltk\n",
    "from nltk.stem import WordNetLemmatizer \n",
    "wnl = WordNetLemmatizer() \n",
    "l2 = ['leaves','leaf','leave']\n",
    "for word in l2:\n",
    "    word_lemma = wnl.lemmatize(word)\n",
    "    print(word_lemma)\n"
   ]
  },
  {
   "cell_type": "markdown",
   "id": "6afe55cc",
   "metadata": {},
   "source": [
    "## 2.3 转换为小写"
   ]
  },
  {
   "cell_type": "code",
   "execution_count": 86,
   "id": "a825161c",
   "metadata": {},
   "outputs": [
    {
     "name": "stdout",
     "output_type": "stream",
     "text": [
      "python\n"
     ]
    }
   ],
   "source": [
    "# 用.lower()\n",
    "word = \"Python\"\n",
    "word = word.lower()                      #转换成lower_case\n",
    "print(word)"
   ]
  },
  {
   "cell_type": "markdown",
   "id": "4bf0ea6c",
   "metadata": {},
   "source": [
    "## 2.4 特征处理\n",
    "\n",
    "这块专门开一页记录"
   ]
  },
  {
   "cell_type": "code",
   "execution_count": null,
   "id": "6e5bfe0a",
   "metadata": {},
   "outputs": [],
   "source": []
  }
 ],
 "metadata": {
  "kernelspec": {
   "display_name": "Python 3 (ipykernel)",
   "language": "python",
   "name": "python3"
  },
  "language_info": {
   "codemirror_mode": {
    "name": "ipython",
    "version": 3
   },
   "file_extension": ".py",
   "mimetype": "text/x-python",
   "name": "python",
   "nbconvert_exporter": "python",
   "pygments_lexer": "ipython3",
   "version": "3.9.13"
  }
 },
 "nbformat": 4,
 "nbformat_minor": 5
}
